{
 "cells": [
  {
   "cell_type": "code",
   "execution_count": 1,
   "id": "d8dd7623",
   "metadata": {},
   "outputs": [],
   "source": [
    "import pandas as pd\n",
    "import numpy as np\n",
    "\n",
    "from sklearn.model_selection import train_test_split\n",
    "\n",
    "from sklearn.ensemble import RandomForestRegressor\n",
    "from sklearn.model_selection import cross_validate\n",
    "\n",
    "import matplotlib.pyplot as plt"
   ]
  },
  {
   "cell_type": "code",
   "execution_count": 2,
   "id": "ee809185",
   "metadata": {},
   "outputs": [],
   "source": [
    "housing_data = pd.read_csv(\"Housing.csv\")"
   ]
  },
  {
   "cell_type": "code",
   "execution_count": 3,
   "id": "542f4f75",
   "metadata": {},
   "outputs": [
    {
     "name": "stdout",
     "output_type": "stream",
     "text": [
      "<class 'pandas.core.frame.DataFrame'>\n",
      "RangeIndex: 545 entries, 0 to 544\n",
      "Data columns (total 13 columns):\n",
      " #   Column            Non-Null Count  Dtype \n",
      "---  ------            --------------  ----- \n",
      " 0   price             545 non-null    int64 \n",
      " 1   area              545 non-null    int64 \n",
      " 2   bedrooms          545 non-null    int64 \n",
      " 3   bathrooms         545 non-null    int64 \n",
      " 4   stories           545 non-null    int64 \n",
      " 5   mainroad          545 non-null    object\n",
      " 6   guestroom         545 non-null    object\n",
      " 7   basement          545 non-null    object\n",
      " 8   hotwaterheating   545 non-null    object\n",
      " 9   airconditioning   545 non-null    object\n",
      " 10  parking           545 non-null    int64 \n",
      " 11  prefarea          545 non-null    object\n",
      " 12  furnishingstatus  545 non-null    object\n",
      "dtypes: int64(6), object(7)\n",
      "memory usage: 55.5+ KB\n"
     ]
    }
   ],
   "source": [
    "housing_data.info()"
   ]
  },
  {
   "cell_type": "code",
   "execution_count": 4,
   "id": "92b387f8",
   "metadata": {},
   "outputs": [
    {
     "data": {
      "text/html": [
       "<div>\n",
       "<style scoped>\n",
       "    .dataframe tbody tr th:only-of-type {\n",
       "        vertical-align: middle;\n",
       "    }\n",
       "\n",
       "    .dataframe tbody tr th {\n",
       "        vertical-align: top;\n",
       "    }\n",
       "\n",
       "    .dataframe thead th {\n",
       "        text-align: right;\n",
       "    }\n",
       "</style>\n",
       "<table border=\"1\" class=\"dataframe\">\n",
       "  <thead>\n",
       "    <tr style=\"text-align: right;\">\n",
       "      <th></th>\n",
       "      <th>price</th>\n",
       "      <th>area</th>\n",
       "      <th>bedrooms</th>\n",
       "      <th>bathrooms</th>\n",
       "      <th>stories</th>\n",
       "      <th>mainroad</th>\n",
       "      <th>guestroom</th>\n",
       "      <th>basement</th>\n",
       "      <th>hotwaterheating</th>\n",
       "      <th>airconditioning</th>\n",
       "      <th>parking</th>\n",
       "      <th>prefarea</th>\n",
       "      <th>furnishingstatus</th>\n",
       "    </tr>\n",
       "  </thead>\n",
       "  <tbody>\n",
       "    <tr>\n",
       "      <th>0</th>\n",
       "      <td>13300000</td>\n",
       "      <td>7420</td>\n",
       "      <td>4</td>\n",
       "      <td>2</td>\n",
       "      <td>3</td>\n",
       "      <td>yes</td>\n",
       "      <td>no</td>\n",
       "      <td>no</td>\n",
       "      <td>no</td>\n",
       "      <td>yes</td>\n",
       "      <td>2</td>\n",
       "      <td>yes</td>\n",
       "      <td>furnished</td>\n",
       "    </tr>\n",
       "    <tr>\n",
       "      <th>1</th>\n",
       "      <td>12250000</td>\n",
       "      <td>8960</td>\n",
       "      <td>4</td>\n",
       "      <td>4</td>\n",
       "      <td>4</td>\n",
       "      <td>yes</td>\n",
       "      <td>no</td>\n",
       "      <td>no</td>\n",
       "      <td>no</td>\n",
       "      <td>yes</td>\n",
       "      <td>3</td>\n",
       "      <td>no</td>\n",
       "      <td>furnished</td>\n",
       "    </tr>\n",
       "    <tr>\n",
       "      <th>2</th>\n",
       "      <td>12250000</td>\n",
       "      <td>9960</td>\n",
       "      <td>3</td>\n",
       "      <td>2</td>\n",
       "      <td>2</td>\n",
       "      <td>yes</td>\n",
       "      <td>no</td>\n",
       "      <td>yes</td>\n",
       "      <td>no</td>\n",
       "      <td>no</td>\n",
       "      <td>2</td>\n",
       "      <td>yes</td>\n",
       "      <td>semi-furnished</td>\n",
       "    </tr>\n",
       "    <tr>\n",
       "      <th>3</th>\n",
       "      <td>12215000</td>\n",
       "      <td>7500</td>\n",
       "      <td>4</td>\n",
       "      <td>2</td>\n",
       "      <td>2</td>\n",
       "      <td>yes</td>\n",
       "      <td>no</td>\n",
       "      <td>yes</td>\n",
       "      <td>no</td>\n",
       "      <td>yes</td>\n",
       "      <td>3</td>\n",
       "      <td>yes</td>\n",
       "      <td>furnished</td>\n",
       "    </tr>\n",
       "    <tr>\n",
       "      <th>4</th>\n",
       "      <td>11410000</td>\n",
       "      <td>7420</td>\n",
       "      <td>4</td>\n",
       "      <td>1</td>\n",
       "      <td>2</td>\n",
       "      <td>yes</td>\n",
       "      <td>yes</td>\n",
       "      <td>yes</td>\n",
       "      <td>no</td>\n",
       "      <td>yes</td>\n",
       "      <td>2</td>\n",
       "      <td>no</td>\n",
       "      <td>furnished</td>\n",
       "    </tr>\n",
       "  </tbody>\n",
       "</table>\n",
       "</div>"
      ],
      "text/plain": [
       "      price  area  bedrooms  bathrooms  stories mainroad guestroom basement  \\\n",
       "0  13300000  7420         4          2        3      yes        no       no   \n",
       "1  12250000  8960         4          4        4      yes        no       no   \n",
       "2  12250000  9960         3          2        2      yes        no      yes   \n",
       "3  12215000  7500         4          2        2      yes        no      yes   \n",
       "4  11410000  7420         4          1        2      yes       yes      yes   \n",
       "\n",
       "  hotwaterheating airconditioning  parking prefarea furnishingstatus  \n",
       "0              no             yes        2      yes        furnished  \n",
       "1              no             yes        3       no        furnished  \n",
       "2              no              no        2      yes   semi-furnished  \n",
       "3              no             yes        3      yes        furnished  \n",
       "4              no             yes        2       no        furnished  "
      ]
     },
     "execution_count": 4,
     "metadata": {},
     "output_type": "execute_result"
    }
   ],
   "source": [
    "housing_data.head(5)"
   ]
  },
  {
   "cell_type": "markdown",
   "id": "34e90770",
   "metadata": {},
   "source": [
    "## Some Preprocessing"
   ]
  },
  {
   "cell_type": "code",
   "execution_count": 5,
   "id": "841f578e",
   "metadata": {},
   "outputs": [],
   "source": [
    "housing_data[\"mainroad\"].unique()\n",
    "housing_data[\"mainroad\"] = housing_data[\"mainroad\"].replace(\"no\",0)\n",
    "housing_data[\"mainroad\"] = housing_data[\"mainroad\"].replace(\"yes\",1)"
   ]
  },
  {
   "cell_type": "code",
   "execution_count": 6,
   "id": "a38d413c",
   "metadata": {},
   "outputs": [],
   "source": [
    "housing_data[\"guestroom\"].unique()\n",
    "housing_data[\"guestroom\"] = housing_data[\"guestroom\"].replace(\"no\",0)\n",
    "housing_data[\"guestroom\"] = housing_data[\"guestroom\"].replace(\"yes\",1)"
   ]
  },
  {
   "cell_type": "code",
   "execution_count": 7,
   "id": "f7a12abc",
   "metadata": {},
   "outputs": [],
   "source": [
    "housing_data[\"basement\"].unique()\n",
    "housing_data[\"basement\"] = housing_data[\"basement\"].replace(\"no\",0)\n",
    "housing_data[\"basement\"] = housing_data[\"basement\"].replace(\"yes\",1)"
   ]
  },
  {
   "cell_type": "code",
   "execution_count": 8,
   "id": "dcb9f077",
   "metadata": {},
   "outputs": [],
   "source": [
    "housing_data[\"hotwaterheating\"].unique()\n",
    "housing_data[\"hotwaterheating\"] = housing_data[\"hotwaterheating\"].replace(\"no\",0)\n",
    "housing_data[\"hotwaterheating\"] = housing_data[\"hotwaterheating\"].replace(\"yes\",1)"
   ]
  },
  {
   "cell_type": "code",
   "execution_count": 9,
   "id": "39192043",
   "metadata": {},
   "outputs": [],
   "source": [
    "housing_data[\"airconditioning\"].unique()\n",
    "housing_data[\"airconditioning\"] = housing_data[\"airconditioning\"].replace(\"no\",0)\n",
    "housing_data[\"airconditioning\"] = housing_data[\"airconditioning\"].replace(\"yes\",1)"
   ]
  },
  {
   "cell_type": "code",
   "execution_count": 10,
   "id": "ec718eb6",
   "metadata": {},
   "outputs": [],
   "source": [
    "housing_data[\"prefarea\"].unique()\n",
    "housing_data[\"prefarea\"] = housing_data[\"prefarea\"].replace(\"no\",0)\n",
    "housing_data[\"prefarea\"] = housing_data[\"prefarea\"].replace(\"yes\",1)"
   ]
  },
  {
   "cell_type": "code",
   "execution_count": 11,
   "id": "7a014b24",
   "metadata": {},
   "outputs": [],
   "source": [
    "housing_data[\"furnishingstatus\"].unique()\n",
    "housing_data[\"furnishingstatus\"] = housing_data[\"furnishingstatus\"].replace(\"unfurnished\",0)\n",
    "housing_data[\"furnishingstatus\"] = housing_data[\"furnishingstatus\"].replace(\"furnished\",1)\n",
    "housing_data[\"furnishingstatus\"] = housing_data[\"furnishingstatus\"].replace(\"semi-furnished\",2)"
   ]
  },
  {
   "cell_type": "code",
   "execution_count": 12,
   "id": "19cd8ba6",
   "metadata": {},
   "outputs": [
    {
     "data": {
      "text/html": [
       "<div>\n",
       "<style scoped>\n",
       "    .dataframe tbody tr th:only-of-type {\n",
       "        vertical-align: middle;\n",
       "    }\n",
       "\n",
       "    .dataframe tbody tr th {\n",
       "        vertical-align: top;\n",
       "    }\n",
       "\n",
       "    .dataframe thead th {\n",
       "        text-align: right;\n",
       "    }\n",
       "</style>\n",
       "<table border=\"1\" class=\"dataframe\">\n",
       "  <thead>\n",
       "    <tr style=\"text-align: right;\">\n",
       "      <th></th>\n",
       "      <th>price</th>\n",
       "      <th>area</th>\n",
       "      <th>bedrooms</th>\n",
       "      <th>bathrooms</th>\n",
       "      <th>stories</th>\n",
       "      <th>mainroad</th>\n",
       "      <th>guestroom</th>\n",
       "      <th>basement</th>\n",
       "      <th>hotwaterheating</th>\n",
       "      <th>airconditioning</th>\n",
       "      <th>parking</th>\n",
       "      <th>prefarea</th>\n",
       "      <th>furnishingstatus</th>\n",
       "    </tr>\n",
       "  </thead>\n",
       "  <tbody>\n",
       "    <tr>\n",
       "      <th>0</th>\n",
       "      <td>13300000</td>\n",
       "      <td>7420</td>\n",
       "      <td>4</td>\n",
       "      <td>2</td>\n",
       "      <td>3</td>\n",
       "      <td>1</td>\n",
       "      <td>0</td>\n",
       "      <td>0</td>\n",
       "      <td>0</td>\n",
       "      <td>1</td>\n",
       "      <td>2</td>\n",
       "      <td>1</td>\n",
       "      <td>1</td>\n",
       "    </tr>\n",
       "    <tr>\n",
       "      <th>1</th>\n",
       "      <td>12250000</td>\n",
       "      <td>8960</td>\n",
       "      <td>4</td>\n",
       "      <td>4</td>\n",
       "      <td>4</td>\n",
       "      <td>1</td>\n",
       "      <td>0</td>\n",
       "      <td>0</td>\n",
       "      <td>0</td>\n",
       "      <td>1</td>\n",
       "      <td>3</td>\n",
       "      <td>0</td>\n",
       "      <td>1</td>\n",
       "    </tr>\n",
       "    <tr>\n",
       "      <th>2</th>\n",
       "      <td>12250000</td>\n",
       "      <td>9960</td>\n",
       "      <td>3</td>\n",
       "      <td>2</td>\n",
       "      <td>2</td>\n",
       "      <td>1</td>\n",
       "      <td>0</td>\n",
       "      <td>1</td>\n",
       "      <td>0</td>\n",
       "      <td>0</td>\n",
       "      <td>2</td>\n",
       "      <td>1</td>\n",
       "      <td>2</td>\n",
       "    </tr>\n",
       "    <tr>\n",
       "      <th>3</th>\n",
       "      <td>12215000</td>\n",
       "      <td>7500</td>\n",
       "      <td>4</td>\n",
       "      <td>2</td>\n",
       "      <td>2</td>\n",
       "      <td>1</td>\n",
       "      <td>0</td>\n",
       "      <td>1</td>\n",
       "      <td>0</td>\n",
       "      <td>1</td>\n",
       "      <td>3</td>\n",
       "      <td>1</td>\n",
       "      <td>1</td>\n",
       "    </tr>\n",
       "    <tr>\n",
       "      <th>4</th>\n",
       "      <td>11410000</td>\n",
       "      <td>7420</td>\n",
       "      <td>4</td>\n",
       "      <td>1</td>\n",
       "      <td>2</td>\n",
       "      <td>1</td>\n",
       "      <td>1</td>\n",
       "      <td>1</td>\n",
       "      <td>0</td>\n",
       "      <td>1</td>\n",
       "      <td>2</td>\n",
       "      <td>0</td>\n",
       "      <td>1</td>\n",
       "    </tr>\n",
       "  </tbody>\n",
       "</table>\n",
       "</div>"
      ],
      "text/plain": [
       "      price  area  bedrooms  bathrooms  stories  mainroad  guestroom  \\\n",
       "0  13300000  7420         4          2        3         1          0   \n",
       "1  12250000  8960         4          4        4         1          0   \n",
       "2  12250000  9960         3          2        2         1          0   \n",
       "3  12215000  7500         4          2        2         1          0   \n",
       "4  11410000  7420         4          1        2         1          1   \n",
       "\n",
       "   basement  hotwaterheating  airconditioning  parking  prefarea  \\\n",
       "0         0                0                1        2         1   \n",
       "1         0                0                1        3         0   \n",
       "2         1                0                0        2         1   \n",
       "3         1                0                1        3         1   \n",
       "4         1                0                1        2         0   \n",
       "\n",
       "   furnishingstatus  \n",
       "0                 1  \n",
       "1                 1  \n",
       "2                 2  \n",
       "3                 1  \n",
       "4                 1  "
      ]
     },
     "execution_count": 12,
     "metadata": {},
     "output_type": "execute_result"
    }
   ],
   "source": [
    "housing_data.head(5)"
   ]
  },
  {
   "cell_type": "markdown",
   "id": "3d88ca02",
   "metadata": {},
   "source": [
    "## Split Data into Training and Validation "
   ]
  },
  {
   "cell_type": "code",
   "execution_count": 13,
   "id": "01a373e9",
   "metadata": {},
   "outputs": [],
   "source": [
    "x_train, x_test, y_train, y_test = train_test_split(\n",
    "    housing_data.drop(\"price\", axis=1),\n",
    "    housing_data[\"price\"],\n",
    "    test_size=.2,\n",
    "    random_state=42\n",
    ")"
   ]
  },
  {
   "cell_type": "markdown",
   "id": "0b1b3adc",
   "metadata": {},
   "source": [
    "## Cross Validation Model"
   ]
  },
  {
   "cell_type": "code",
   "execution_count": 14,
   "id": "196d71bf",
   "metadata": {},
   "outputs": [
    {
     "name": "stdout",
     "output_type": "stream",
     "text": [
      "RandomForestRegressor(n_estimators=1) : -1015093.5195560254\n",
      "RandomForestRegressor(n_estimators=11) : -790658.9903741431\n",
      "RandomForestRegressor(n_estimators=21) : -769902.6355414612\n",
      "RandomForestRegressor(n_estimators=31) : -781798.3608601013\n",
      "RandomForestRegressor(n_estimators=41) : -766424.2662902422\n",
      "RandomForestRegressor(n_estimators=51) : -768602.9635479279\n",
      "RandomForestRegressor(n_estimators=61) : -761190.5081476218\n",
      "RandomForestRegressor(n_estimators=71) : -759385.9520888545\n",
      "RandomForestRegressor(n_estimators=81) : -765714.1509974856\n",
      "RandomForestRegressor(n_estimators=91) : -769882.7958204586\n"
     ]
    },
    {
     "data": {
      "text/plain": [
       "Text(0.5, 0, 'Trees')"
      ]
     },
     "execution_count": 14,
     "metadata": {},
     "output_type": "execute_result"
    },
    {
     "data": {
      "image/png": "[encoded data removed]",
      "text/plain": [
       "<Figure size 2000x1000 with 1 Axes>"
      ]
     },
     "metadata": {},
     "output_type": "display_data"
    }
   ],
   "source": [
    "# find optimal number of trees using cross validation\n",
    "figure, axis = plt.subplots(figsize=(20, 10))\n",
    "\n",
    "\n",
    "\n",
    "scores_array=[]\n",
    "i_track = []\n",
    "for i in range(1, 101,10):\n",
    "    randForest = RandomForestRegressor(n_estimators = i)\n",
    "    cvs = cross_validate(randForest, x_train, y_train, scoring=(\"neg_mean_absolute_error\"),cv=10)\n",
    "#     print(cvs[\"test_score\"])    \n",
    "    avg_cvs_score = np.mean(cvs[\"test_score\"])\n",
    "    print(randForest,':', avg_cvs_score)\n",
    "    i_track.append(i)\n",
    "    scores_array.append(avg_cvs_score)\n",
    "    axis.scatter(i,np.abs(avg_cvs_score))\n",
    "    axis.annotate('(N=' +str(i) +', '+ str(round(np.abs(avg_cvs_score),3)) +')', (i, np.abs(avg_cvs_score)), textcoords='offset points', xytext=(0,20), ha='center')\n",
    "\n",
    "\n",
    "\n",
    "axis.plot(i_track, np.abs(scores_array))\n",
    "\n",
    "axis.set_title('Title: Finding Optimal Trees', fontsize=15)\n",
    "axis.set_ylabel('Average Cross Validation Score', fontsize=15)\n",
    "axis.set_xlabel('Trees', fontsize=15)"
   ]
  },
  {
   "cell_type": "markdown",
   "id": "fb344b55",
   "metadata": {},
   "source": [
    "## Train Model"
   ]
  },
  {
   "cell_type": "code",
   "execution_count": 15,
   "id": "2ddbad47",
   "metadata": {},
   "outputs": [],
   "source": [
    "randForest = RandomForestRegressor(n_estimators=81, random_state=0)"
   ]
  },
  {
   "cell_type": "code",
   "execution_count": 16,
   "id": "9f1cf467",
   "metadata": {},
   "outputs": [
    {
     "data": {
      "text/plain": [
       "RandomForestRegressor(n_estimators=81, random_state=0)"
      ]
     },
     "execution_count": 16,
     "metadata": {},
     "output_type": "execute_result"
    }
   ],
   "source": [
    "randForest.fit(x_train, y_train)"
   ]
  },
  {
   "cell_type": "code",
   "execution_count": 17,
   "id": "592cffc9",
   "metadata": {},
   "outputs": [],
   "source": [
    "predictions = randForest.predict(x_test)"
   ]
  },
  {
   "cell_type": "code",
   "execution_count": 18,
   "id": "60c1cf56",
   "metadata": {},
   "outputs": [
    {
     "data": {
      "text/plain": [
       "array([ 5552685.18518519,  7019358.02469136,  3762586.41975309,\n",
       "        4445518.51851852,  3727672.83950617,  3477876.54320988,\n",
       "        5132469.13580247,  5216901.2345679 ,  2700617.28395062,\n",
       "        2902506.79012346, 10591468.39506173,  3257196.50205761,\n",
       "        3028234.56790123,  3491530.86419753,  3591000.        ,\n",
       "        4044790.12345679,  3397186.41975309,  5168506.17283951,\n",
       "        3669123.45679012,  3911703.7037037 ,  5313172.83950617,\n",
       "        5997876.54320988,  3005448.55967078,  3586808.64197531,\n",
       "        4958333.33333333,  6563450.61728395,  3385148.14814815,\n",
       "        4740987.65432099,  6221012.34567901,  3254049.38271605,\n",
       "        5556358.02469136,  3175148.14814815,  6602987.65432099,\n",
       "        4342074.07407407,  3035450.61728395,  6274117.28395062,\n",
       "        4634518.51851852,  3683944.44444444,  3001358.02469136,\n",
       "        4136308.64197531,  4221086.41975309,  2846407.40740741,\n",
       "        7120641.97530864,  4228777.77777778,  3946185.18518519,\n",
       "        4195506.17283951,  7278530.86419753,  4089037.03703704,\n",
       "        2867925.92592593,  3127962.96296296,  7991212.09876543,\n",
       "        2526913.58024691,  4299037.03703704,  4480388.88888889,\n",
       "        3293442.38683128,  2853122.22222222,  6984833.33333333,\n",
       "        2969728.39506173,  4920740.74074074,  3126954.73251029,\n",
       "        4087395.0617284 ,  3636283.95061728,  4596839.50617284,\n",
       "        4384333.33333333,  3965024.69135802,  5082518.51851852,\n",
       "        6315425.92592593,  2947950.61728395,  5601123.45679012,\n",
       "        5028679.01234568,  4051185.18518519,  5537432.09876543,\n",
       "        4693197.5308642 ,  7660160.49382716,  2997728.39506173,\n",
       "        5320345.67901235,  4345703.7037037 ,  4420024.69135802,\n",
       "        4868759.25925926,  4376901.2345679 ,  8427121.97530864,\n",
       "        4268185.18518519,  5703617.28395062,  5988716.04938272,\n",
       "        3024518.51851852,  6429111.11111111,  2835259.25925926,\n",
       "        4196932.09876543,  8857010.12345679,  9037993.82716049,\n",
       "        3302915.43209877,  5773876.54320988,  3616666.66666667,\n",
       "        3489500.        ,  9450777.77777778,  4400580.24691358,\n",
       "        4828314.81481481,  5993771.60493827,  4311222.22222222,\n",
       "        6044543.20987654,  4375950.61728395,  6632283.95061728,\n",
       "        4094395.0617284 ,  4314506.17283951,  6348913.58024691,\n",
       "        5299950.61728395,  7514197.5308642 ,  7377913.58024691,\n",
       "        6750419.75308642])"
      ]
     },
     "execution_count": 18,
     "metadata": {},
     "output_type": "execute_result"
    }
   ],
   "source": [
    "predictions\n",
    "# 5552685 5633500"
   ]
  }
 ],
 "metadata": {
  "kernelspec": {
   "display_name": "Python 3 (ipykernel)",
   "language": "python",
   "name": "python3"
  },
  "language_info": {
   "codemirror_mode": {
    "name": "ipython",
    "version": 3
   },
   "file_extension": ".py",
   "mimetype": "text/x-python",
   "name": "python",
   "nbconvert_exporter": "python",
   "pygments_lexer": "ipython3",
   "version": "3.9.13"
  }
 },
 "nbformat": 4,
 "nbformat_minor": 5
}
